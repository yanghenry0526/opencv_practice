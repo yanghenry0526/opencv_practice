{
 "cells": [
  {
   "cell_type": "code",
   "execution_count": 10,
   "id": "ae9c65e6",
   "metadata": {},
   "outputs": [
    {
     "name": "stdout",
     "output_type": "stream",
     "text": [
      "[228 199 154]\n",
      "199\n",
      "[106 106 106]\n",
      "[106 106 255]\n"
     ]
    }
   ],
   "source": [
    "import cv2\n",
    "\n",
    "img = cv2.imread('baboon.bmp')  #array裡分別代表R,G,B\n",
    "\n",
    "print(img[100,100])\n",
    "print(img[100,100 , 1])\n",
    "\n",
    "img = cv2.imread('lena.bmp')\n",
    "print(img[100,100])\n",
    "\n",
    "img[100,100,2] = 255\n",
    "print(img[100,100])"
   ]
  },
  {
   "cell_type": "code",
   "execution_count": null,
   "id": "a39f8e39",
   "metadata": {},
   "outputs": [],
   "source": []
  }
 ],
 "metadata": {
  "kernelspec": {
   "display_name": "Python 3 (ipykernel)",
   "language": "python",
   "name": "python3"
  },
  "language_info": {
   "codemirror_mode": {
    "name": "ipython",
    "version": 3
   },
   "file_extension": ".py",
   "mimetype": "text/x-python",
   "name": "python",
   "nbconvert_exporter": "python",
   "pygments_lexer": "ipython3",
   "version": "3.7.13"
  }
 },
 "nbformat": 4,
 "nbformat_minor": 5
}
