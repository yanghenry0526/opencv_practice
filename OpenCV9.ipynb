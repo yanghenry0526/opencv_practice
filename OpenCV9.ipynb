{
 "cells": [
  {
   "cell_type": "code",
   "execution_count": null,
   "id": "4239c806",
   "metadata": {},
   "outputs": [],
   "source": [
    "import cv2\n",
    "import numpy as np\n",
    "import matplotlib.pyplot as plt\n",
    "\n",
    "\n",
    "img = cv2.imread('lena.bmp',0) #讀灰階加個0\n",
    "\n",
    "img1 = img.copy()\n",
    "\n",
    "nr , nc = img.shape\n",
    "for x in range(nr) :\n",
    "    for y in range(nc):\n",
    "        img1[x,y] = ((img[x,y] / 255) ** 3) * 255\n",
    "\n",
    "        \n",
    "# img = np.power(img/255 , 3)\n",
    "\n",
    "img1 = cv2.equalizeHist(img) #質方圖等化\n",
    "\n",
    "cv2.imshow('source',img)\n",
    "cv2.imshow('result',img1)\n",
    "\n",
    "cv2.waitKey(0)\n"
   ]
  },
  {
   "cell_type": "code",
   "execution_count": null,
   "id": "f1c026ad",
   "metadata": {},
   "outputs": [],
   "source": []
  }
 ],
 "metadata": {
  "kernelspec": {
   "display_name": "Python 3 (ipykernel)",
   "language": "python",
   "name": "python3"
  },
  "language_info": {
   "codemirror_mode": {
    "name": "ipython",
    "version": 3
   },
   "file_extension": ".py",
   "mimetype": "text/x-python",
   "name": "python",
   "nbconvert_exporter": "python",
   "pygments_lexer": "ipython3",
   "version": "3.7.15"
  }
 },
 "nbformat": 4,
 "nbformat_minor": 5
}
